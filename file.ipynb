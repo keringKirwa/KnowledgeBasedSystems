{
 "cells": [
  {
   "cell_type": "code",
   "execution_count": 3,
   "metadata": {},
   "outputs": [
    {
     "name": "stdout",
     "output_type": "stream",
     "text": [
      "programming is so cool, tell us more here ... \n"
     ]
    },
    {
     "ename": "ModuleNotFoundError",
     "evalue": "No module named 'pandas'",
     "output_type": "error",
     "traceback": [
      "\u001b[0;31m---------------------------------------------------------------------------\u001b[0m",
      "\u001b[0;31mModuleNotFoundError\u001b[0m                       Traceback (most recent call last)",
      "\u001b[1;32m/home/kering/Desktop/KnowledgeBasedSystems/file.ipynb Cell 1\u001b[0m line \u001b[0;36m3\n\u001b[1;32m      <a href='vscode-notebook-cell:/home/kering/Desktop/KnowledgeBasedSystems/file.ipynb#W0sZmlsZQ%3D%3D?line=0'>1</a>\u001b[0m \u001b[39mprint\u001b[39m(\u001b[39m\"\u001b[39m\u001b[39mprogramming is so cool, tell us more here ... \u001b[39m\u001b[39m\"\u001b[39m)\n\u001b[0;32m----> <a href='vscode-notebook-cell:/home/kering/Desktop/KnowledgeBasedSystems/file.ipynb#W0sZmlsZQ%3D%3D?line=2'>3</a>\u001b[0m \u001b[39mimport\u001b[39;00m \u001b[39mpandas\u001b[39;00m \u001b[39mas\u001b[39;00m \u001b[39mpd\u001b[39;00m\n\u001b[1;32m      <a href='vscode-notebook-cell:/home/kering/Desktop/KnowledgeBasedSystems/file.ipynb#W0sZmlsZQ%3D%3D?line=4'>5</a>\u001b[0m d \u001b[39m=\u001b[39m {\n\u001b[1;32m      <a href='vscode-notebook-cell:/home/kering/Desktop/KnowledgeBasedSystems/file.ipynb#W0sZmlsZQ%3D%3D?line=5'>6</a>\u001b[0m      \u001b[39m'\u001b[39m\u001b[39mcol 1\u001b[39m\u001b[39m'\u001b[39m : [\u001b[39m1\u001b[39m,\u001b[39m2\u001b[39m,\u001b[39m3\u001b[39m,\u001b[39m4\u001b[39m],\n\u001b[1;32m      <a href='vscode-notebook-cell:/home/kering/Desktop/KnowledgeBasedSystems/file.ipynb#W0sZmlsZQ%3D%3D?line=6'>7</a>\u001b[0m      \u001b[39m'\u001b[39m\u001b[39mcol 2\u001b[39m\u001b[39m'\u001b[39m : [\u001b[39m'\u001b[39m\u001b[39mA\u001b[39m\u001b[39m'\u001b[39m,\u001b[39m'\u001b[39m\u001b[39mB\u001b[39m\u001b[39m'\u001b[39m,\u001b[39m'\u001b[39m\u001b[39mC\u001b[39m\u001b[39m'\u001b[39m,\u001b[39m'\u001b[39m\u001b[39mD\u001b[39m\u001b[39m'\u001b[39m], \n\u001b[1;32m      <a href='vscode-notebook-cell:/home/kering/Desktop/KnowledgeBasedSystems/file.ipynb#W0sZmlsZQ%3D%3D?line=7'>8</a>\u001b[0m      \u001b[39m'\u001b[39m\u001b[39mcol 3\u001b[39m\u001b[39m'\u001b[39m : [\u001b[39m5\u001b[39m,\u001b[39m6\u001b[39m,\u001b[39m7\u001b[39m,\u001b[39m8\u001b[39m], \n\u001b[1;32m      <a href='vscode-notebook-cell:/home/kering/Desktop/KnowledgeBasedSystems/file.ipynb#W0sZmlsZQ%3D%3D?line=8'>9</a>\u001b[0m      \u001b[39m'\u001b[39m\u001b[39mcol 4\u001b[39m\u001b[39m'\u001b[39m : [\u001b[39m'\u001b[39m\u001b[39mE\u001b[39m\u001b[39m'\u001b[39m,\u001b[39m'\u001b[39m\u001b[39mF\u001b[39m\u001b[39m'\u001b[39m,\u001b[39m'\u001b[39m\u001b[39mG\u001b[39m\u001b[39m'\u001b[39m,\u001b[39m'\u001b[39m\u001b[39mH\u001b[39m\u001b[39m'\u001b[39m]\n\u001b[1;32m     <a href='vscode-notebook-cell:/home/kering/Desktop/KnowledgeBasedSystems/file.ipynb#W0sZmlsZQ%3D%3D?line=9'>10</a>\u001b[0m      }\n\u001b[1;32m     <a href='vscode-notebook-cell:/home/kering/Desktop/KnowledgeBasedSystems/file.ipynb#W0sZmlsZQ%3D%3D?line=11'>12</a>\u001b[0m df \u001b[39m=\u001b[39m pd\u001b[39m.\u001b[39mDataFrame(data \u001b[39m=\u001b[39m d)\n",
      "\u001b[0;31mModuleNotFoundError\u001b[0m: No module named 'pandas'"
     ]
    }
   ],
   "source": [
    "import pandas as pd\n",
    "\n",
    "d = {\n",
    "     'col 1' : [1,2,3,4],\n",
    "     'col 2' : ['A','B','C','D'], \n",
    "     'col 3' : [5,6,7,8], \n",
    "     'col 4' : ['E','F','G','H']\n",
    "     }\n",
    "\n",
    "df = pd.DataFrame(data = d)\n",
    "\n",
    "print(df.describe())"
   ]
  },
  {
   "cell_type": "code",
   "execution_count": 3,
   "metadata": {},
   "outputs": [
    {
     "name": "stdout",
     "output_type": "stream",
     "text": [
      "this is the  function called here ...\n"
     ]
    }
   ],
   "source": [
    "from sklearn.impute import SimpleImputer \n",
    "from sklearn.preprocessing import OneHotEncoder \n",
    "\n",
    "imputer = SimpleImputer()\n",
    "\n",
    "class MyClass:\n",
    "    def __init__(self) -> None:\n",
    "        pass\n",
    "\n",
    "    def my_funtion(self):\n",
    "        print(\"this is the  function called here ...\")\n",
    "\n",
    "myClass = MyClass()\n",
    "myClass.my_funtion()\n"
   ]
  }
 ],
 "metadata": {
  "kernelspec": {
   "display_name": "Python 3",
   "language": "python",
   "name": "python3"
  },
  "language_info": {
   "codemirror_mode": {
    "name": "ipython",
    "version": 3
   },
   "file_extension": ".py",
   "mimetype": "text/x-python",
   "name": "python",
   "nbconvert_exporter": "python",
   "pygments_lexer": "ipython3",
   "version": "3.10.12"
  },
  "orig_nbformat": 4
 },
 "nbformat": 4,
 "nbformat_minor": 2
}
